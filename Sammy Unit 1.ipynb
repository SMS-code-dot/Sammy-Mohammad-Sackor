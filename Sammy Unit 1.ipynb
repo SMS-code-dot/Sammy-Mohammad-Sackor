{
 "cells": [
  {
   "cell_type": "code",
   "execution_count": null,
   "id": "ccdb9928-c7ce-49f6-9483-e16d9f31f3ab",
   "metadata": {},
   "outputs": [],
   "source": [
    "Write a python program to print hellow world "
   ]
  },
  {
   "cell_type": "code",
   "execution_count": 2,
   "id": "ad99eaec-2721-44bf-a5ce-c7bc6e075fea",
   "metadata": {},
   "outputs": [
    {
     "name": "stdout",
     "output_type": "stream",
     "text": [
      "Hello, World!\n"
     ]
    }
   ],
   "source": [
    "print(\"Hello, World!\")"
   ]
  },
  {
   "cell_type": "code",
   "execution_count": null,
   "id": "49e241d7-af56-4ea2-b200-444606231c52",
   "metadata": {},
   "outputs": [],
   "source": [
    "Write a python program to input two numbers and perform all basic operations"
   ]
  },
  {
   "cell_type": "code",
   "execution_count": 4,
   "id": "587f26a8-224a-4bf0-8cc1-4dc5282855c7",
   "metadata": {},
   "outputs": [
    {
     "name": "stdin",
     "output_type": "stream",
     "text": [
      "Enter the first number:  15\n",
      "Enter the second number:  58\n"
     ]
    },
    {
     "name": "stdout",
     "output_type": "stream",
     "text": [
      "Addition: 15.0 + 58.0 = 73.0\n",
      "Subtraction: 15.0 - 58.0 = -43.0\n",
      "Multiplication: 15.0 * 58.0 = 870.0\n",
      "Division: 15.0 / 58.0 = 0.25862068965517243\n"
     ]
    }
   ],
   "source": [
    "num1 = float(input(\"Enter the first number: \"))\n",
    "num2 = float(input(\"Enter the second number: \"))\n",
    "\n",
    "addition = num1 + num2\n",
    "subtraction = num1 - num2\n",
    "multiplication = num1 * num2\n",
    "if num2 != 0:\n",
    "    division = num1 / num2\n",
    "else:\n",
    "    division = \"Undefined (cannot divide by zero)\"\n",
    "\n",
    "print(f\"Addition: {num1} + {num2} = {addition}\")\n",
    "print(f\"Subtraction: {num1} - {num2} = {subtraction}\")\n",
    "print(f\"Multiplication: {num1} * {num2} = {multiplication}\")\n",
    "print(f\"Division: {num1} / {num2} = {division}\")"
   ]
  },
  {
   "cell_type": "code",
   "execution_count": null,
   "id": "05a1f618-5be1-43b5-8199-f960a3704f20",
   "metadata": {},
   "outputs": [],
   "source": [
    "Write a python program to check whether a number is even or odd"
   ]
  },
  {
   "cell_type": "code",
   "execution_count": 6,
   "id": "43d4ae57-fc9d-48c4-abbc-2fb59062d774",
   "metadata": {},
   "outputs": [
    {
     "name": "stdin",
     "output_type": "stream",
     "text": [
      "Enter a number:  5\n"
     ]
    },
    {
     "name": "stdout",
     "output_type": "stream",
     "text": [
      "5 is odd\n"
     ]
    }
   ],
   "source": [
    "num = int(input(\"Enter a number: \"))\n",
    "\n",
    "if num % 2 == 0:\n",
    "    print(f\"{num} is even\")\n",
    "else:\n",
    "    print(f\"{num} is odd\")"
   ]
  },
  {
   "cell_type": "code",
   "execution_count": null,
   "id": "04bed7fd-eaf1-45e8-b460-b1fba5c8e063",
   "metadata": {},
   "outputs": [],
   "source": [
    "Write a python program to check whether a number is divisible by 3 or not, if the number is divisble by 3 also check if it's divisible by 5"
   ]
  },
  {
   "cell_type": "code",
   "execution_count": 8,
   "id": "3789bd50-1498-47e5-9ead-7ab7eadf6ae1",
   "metadata": {},
   "outputs": [
    {
     "name": "stdin",
     "output_type": "stream",
     "text": [
      "Enter a number:  89\n"
     ]
    },
    {
     "name": "stdout",
     "output_type": "stream",
     "text": [
      "89 is not divisible by 3\n"
     ]
    }
   ],
   "source": [
    "num = int(input(\"Enter a number: \"))\n",
    "\n",
    "if num % 3 == 0:\n",
    "    print(f\"{num} is divisible by 3\")\n",
    "    if num % 5 == 0:\n",
    "        print(f\"{num} is also divisible by 5\")\n",
    "else:\n",
    "    print(f\"{num} is not divisible by 3\")"
   ]
  },
  {
   "cell_type": "code",
   "execution_count": null,
   "id": "18137d4b-a0ea-4981-bb94-ad92a1b17ce4",
   "metadata": {},
   "outputs": [],
   "source": [
    "Create a basic ATM program that allows users to check their balance, deposit money and withdraw money ensuring that they don't withdraw more than they have "
   ]
  },
  {
   "cell_type": "code",
   "execution_count": 10,
   "id": "cc703255-d7b6-4101-babc-cfe528b01699",
   "metadata": {},
   "outputs": [
    {
     "name": "stdout",
     "output_type": "stream",
     "text": [
      "\n",
      "ATM Menu:\n",
      "1. Check Balance\n",
      "2. Deposit Money\n",
      "3. Withdraw Money\n",
      "4. Exit\n"
     ]
    },
    {
     "name": "stdin",
     "output_type": "stream",
     "text": [
      "Choose an option:  1\n"
     ]
    },
    {
     "name": "stdout",
     "output_type": "stream",
     "text": [
      "Your current balance is: $1000\n",
      "\n",
      "ATM Menu:\n",
      "1. Check Balance\n",
      "2. Deposit Money\n",
      "3. Withdraw Money\n",
      "4. Exit\n"
     ]
    },
    {
     "name": "stdin",
     "output_type": "stream",
     "text": [
      "Choose an option:  2\n",
      "Enter amount to deposit:  500\n"
     ]
    },
    {
     "name": "stdout",
     "output_type": "stream",
     "text": [
      "Deposited $500.0. Your new balance is: $1500.0\n",
      "\n",
      "ATM Menu:\n",
      "1. Check Balance\n",
      "2. Deposit Money\n",
      "3. Withdraw Money\n",
      "4. Exit\n"
     ]
    },
    {
     "name": "stdin",
     "output_type": "stream",
     "text": [
      "Choose an option:  3\n",
      "Enter amount to withdraw:  5000\n"
     ]
    },
    {
     "name": "stdout",
     "output_type": "stream",
     "text": [
      "Insufficient funds! You cannot withdraw more than your balance.\n",
      "\n",
      "ATM Menu:\n",
      "1. Check Balance\n",
      "2. Deposit Money\n",
      "3. Withdraw Money\n",
      "4. Exit\n"
     ]
    },
    {
     "name": "stdin",
     "output_type": "stream",
     "text": [
      "Choose an option:  500\n"
     ]
    },
    {
     "name": "stdout",
     "output_type": "stream",
     "text": [
      "Invalid choice! Please select a valid option.\n",
      "\n",
      "ATM Menu:\n",
      "1. Check Balance\n",
      "2. Deposit Money\n",
      "3. Withdraw Money\n",
      "4. Exit\n"
     ]
    },
    {
     "name": "stdin",
     "output_type": "stream",
     "text": [
      "Choose an option:  3\n",
      "Enter amount to withdraw:  500\n"
     ]
    },
    {
     "name": "stdout",
     "output_type": "stream",
     "text": [
      "Withdrew $500.0. Your new balance is: $1000.0\n",
      "\n",
      "ATM Menu:\n",
      "1. Check Balance\n",
      "2. Deposit Money\n",
      "3. Withdraw Money\n",
      "4. Exit\n"
     ]
    },
    {
     "name": "stdin",
     "output_type": "stream",
     "text": [
      "Choose an option:  4\n"
     ]
    },
    {
     "name": "stdout",
     "output_type": "stream",
     "text": [
      "Thank you for using the ATM!\n"
     ]
    }
   ],
   "source": [
    "balance = 1000\n",
    "\n",
    "while True:\n",
    "    print(\"\\nATM Menu:\")\n",
    "    print(\"1. Check Balance\")\n",
    "    print(\"2. Deposit Money\")\n",
    "    print(\"3. Withdraw Money\")\n",
    "    print(\"4. Exit\")\n",
    "\n",
    "    choice = int(input(\"Choose an option: \"))\n",
    "\n",
    "    if choice == 1:\n",
    "        print(f\"Your current balance is: ${balance}\")\n",
    "\n",
    "    elif choice == 2:\n",
    "        deposit = float(input(\"Enter amount to deposit: \"))\n",
    "        balance += deposit\n",
    "        print(f\"Deposited ${deposit}. Your new balance is: ${balance}\")\n",
    "\n",
    "    elif choice == 3:\n",
    "        withdraw = float(input(\"Enter amount to withdraw: \"))\n",
    "        if withdraw > balance:\n",
    "            print(\"Insufficient funds! You cannot withdraw more than your balance.\")\n",
    "        else:\n",
    "            balance -= withdraw\n",
    "            print(f\"Withdrew ${withdraw}. Your new balance is: ${balance}\")\n",
    "\n",
    "    elif choice == 4:\n",
    "        print(\"Thank you for using the ATM!\")\n",
    "        break\n",
    "\n",
    "    else:\n",
    "        print(\"Invalid choice! Please select a valid option.\")"
   ]
  }
 ],
 "metadata": {
  "kernelspec": {
   "display_name": "Python 3 (ipykernel)",
   "language": "python",
   "name": "python3"
  },
  "language_info": {
   "codemirror_mode": {
    "name": "ipython",
    "version": 3
   },
   "file_extension": ".py",
   "mimetype": "text/x-python",
   "name": "python",
   "nbconvert_exporter": "python",
   "pygments_lexer": "ipython3",
   "version": "3.12.4"
  }
 },
 "nbformat": 4,
 "nbformat_minor": 5
}

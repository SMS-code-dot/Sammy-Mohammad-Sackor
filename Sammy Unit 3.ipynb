{
 "cells": [
  {
   "cell_type": "code",
   "execution_count": null,
   "id": "1bed2145-2c74-449e-aa3a-82c8dc8995bf",
   "metadata": {},
   "outputs": [],
   "source": [
    "Write a python program to create a function to check even and odd"
   ]
  },
  {
   "cell_type": "code",
   "execution_count": null,
   "id": "63512e2c-0f4e-4b54-9946-a2445105d59f",
   "metadata": {},
   "outputs": [],
   "source": [
    "def check_even_odd(num):\n",
    "    if num % 2 == 0:\n",
    "        print(f\"{num} is even\")\n",
    "    else:\n",
    "        print(f\"{num} is odd\")\n",
    "\n",
    "# Example usage\n",
    "number = int(input(\"Enter a number: \"))\n",
    "check_even_odd(number)"
   ]
  },
  {
   "cell_type": "code",
   "execution_count": null,
   "id": "62ff9b12-c408-4af9-a6c4-90ec7f7c872d",
   "metadata": {},
   "outputs": [],
   "source": [
    "Write a python program to create a function that outputs factorial of a number "
   ]
  },
  {
   "cell_type": "code",
   "execution_count": null,
   "id": "15418952-2298-4fdc-98d9-1f981b05740f",
   "metadata": {},
   "outputs": [],
   "source": [
    "def factorial(num):\n",
    "    result = 1\n",
    "    for i in range(1, num + 1):\n",
    "        result *= i\n",
    "    return result\n",
    "\n",
    "# Example usage\n",
    "number = int(input(\"Enter a number: \"))\n",
    "print(f\"Factorial of {number} is {factorial(number)}\")"
   ]
  },
  {
   "cell_type": "code",
   "execution_count": null,
   "id": "2ca32c8b-7852-45f3-a39e-95d65ee3dfdb",
   "metadata": {},
   "outputs": [],
   "source": [
    "Write a python program to create a function that inputs any number of variable, any number of parameters and output first sum second product and third average "
   ]
  },
  {
   "cell_type": "code",
   "execution_count": null,
   "id": "fffd63cd-6454-4765-a738-fc65860db92d",
   "metadata": {},
   "outputs": [],
   "source": [
    "def calculate(*args):\n",
    "    total_sum = sum(args)\n",
    "    total_product = 1\n",
    "    for num in args:\n",
    "        total_product *= num\n",
    "    average = total_sum / len(args) if args else 0\n",
    "    \n",
    "    print(f\"Sum: {total_sum}\")\n",
    "    print(f\"Product: {total_product}\")\n",
    "    print(f\"Average: {average}\")\n",
    "\n",
    "# Example usage\n",
    "calculate(1, 2, 3, 4, 5)"
   ]
  },
  {
   "cell_type": "code",
   "execution_count": null,
   "id": "ae3404d2-ab45-4a80-a3f8-1b59442296e8",
   "metadata": {},
   "outputs": [],
   "source": [
    "Write a python program to create a function that prints a sum of two numbers"
   ]
  },
  {
   "cell_type": "code",
   "execution_count": null,
   "id": "e1fa43d0-7968-4991-bffc-1f51f3c29668",
   "metadata": {},
   "outputs": [],
   "source": [
    "def sum_of_two_numbers(num1, num2):\n",
    "    total = num1 + num2\n",
    "    print(f\"The sum of {num1} and {num2} is {total}\")\n",
    "\n",
    "# Example usage\n",
    "sum_of_two_numbers(5, 7)"
   ]
  }
 ],
 "metadata": {
  "kernelspec": {
   "display_name": "Python 3 (ipykernel)",
   "language": "python",
   "name": "python3"
  },
  "language_info": {
   "codemirror_mode": {
    "name": "ipython",
    "version": 3
   },
   "file_extension": ".py",
   "mimetype": "text/x-python",
   "name": "python",
   "nbconvert_exporter": "python",
   "pygments_lexer": "ipython3",
   "version": "3.12.4"
  }
 },
 "nbformat": 4,
 "nbformat_minor": 5
}
